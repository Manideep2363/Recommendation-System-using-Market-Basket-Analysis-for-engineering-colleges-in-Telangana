{
 "cells": [
  {
   "cell_type": "code",
   "execution_count": null,
   "id": "071739bb-5262-4aa6-a6f6-7d72f1e6d130",
   "metadata": {},
   "outputs": [],
   "source": [
    "import pandas as pd\n",
    "from mlxtend.frequent_patterns import apriori, association_rules\n",
    "import tkinter as tk\n",
    "from tkinter import ttk"
   ]
  },
  {
   "cell_type": "code",
   "execution_count": null,
   "id": "8ca37350-402c-4cf1-8d61-923c96021a54",
   "metadata": {},
   "outputs": [],
   "source": [
    "data = pd.read_csv('college_list.csv')\n",
    "df = pd.DataFrame(data)\n",
    "one_hot_encoded = pd.get_dummies(df[['DISTRICT', 'FACILITIES', 'COLLEGENAME']])\n",
    "one_hot_encoded['RANKING'] = df['RANKING']\n",
    "grouped = one_hot_encoded.groupby(df['COLLEGENAME']).sum()\n",
    "grouped_binarized = grouped.drop(columns=['RANKING']).gt(0).astype(bool)  # Change to bool type\n",
    "frequent_itemsets = apriori(grouped_binarized, min_support=0.001, use_colnames=True)\n",
    "rules = association_rules(frequent_itemsets, metric='confidence', min_threshold=0.001)"
   ]
  },
  {
   "cell_type": "code",
   "execution_count": null,
   "id": "5bf12bf0-fe8b-4bcf-b41e-dc786b76da79",
   "metadata": {},
   "outputs": [],
   "source": [
    "root = tk.Tk()\n",
    "root.title(\"College Recommendation System\")\n",
    "root.geometry(\"600x600\")\n",
    "root.configure(bg=\"#f2f2f2\")"
   ]
  },
  {
   "cell_type": "code",
   "execution_count": null,
   "id": "ad693f37-a6ed-4f33-9229-434e99816244",
   "metadata": {},
   "outputs": [],
   "source": [
    "style = ttk.Style()\n",
    "style.configure('TLabel', background=\"#f2f2f2\", font=('Arial', 12))\n",
    "style.configure('TButton', font=('Arial', 12, 'bold'), background=\"#4CAF50\", foreground=\"black\")  # Changed foreground to black\n",
    "style.configure('TEntry', font=('Arial', 10))\n",
    "style.configure('TCombobox', font=('Arial', 10))"
   ]
  },
  {
   "cell_type": "code",
   "execution_count": null,
   "id": "20056ed5-cb11-4eb0-aafb-69d6a7ee758f",
   "metadata": {},
   "outputs": [],
   "source": [
    "facilities_options = df['FACILITIES'].unique().tolist()\n",
    "location_options = df['DISTRICT'].unique().tolist()"
   ]
  },
  {
   "cell_type": "code",
   "execution_count": null,
   "id": "0c73d00e-90be-44ef-b4d3-8097c44259b4",
   "metadata": {},
   "outputs": [],
   "source": [
    "def recommend_college():\n",
    "    facilities_preference = facilities_dropdown.get()\n",
    "    location_preference = location_dropdown.get().upper()\n",
    "    ranking_preference = ranking_var.get()\n",
    "    \n",
    "    # Validate and parse ranking preference\n",
    "    try:\n",
    "        if '-' in ranking_preference:\n",
    "            ranking_min, ranking_max = map(int, ranking_preference.split('-'))\n",
    "        else:\n",
    "            raise ValueError(\"Invalid ranking range format\")\n",
    "    except ValueError as e:\n",
    "        result_text.set(f\"Error: {e}\")\n",
    "        return\n",
    "    \n",
    "    input_features = set()\n",
    "    if facilities_preference:\n",
    "        input_features.add('FACILITIES_' + facilities_preference)\n",
    "    if location_preference:\n",
    "        input_features.add('DISTRICT_' + location_preference)\n",
    "    \n",
    "    eligible_colleges = grouped[(grouped['RANKING'] >= ranking_min) & (grouped['RANKING'] <= ranking_max)].index\n",
    "    matching_rules = rules[rules['antecedents'].apply(lambda x: input_features.issubset(x))]\n",
    "    \n",
    "    recommended_colleges = set()\n",
    "    for _, row in matching_rules.iterrows():\n",
    "        for item in row['consequents']:\n",
    "            if item.startswith('COLLEGENAME_'):\n",
    "                college = item.replace('COLLEGENAME_', '')\n",
    "                if college in eligible_colleges:\n",
    "                    recommended_colleges.add(college)\n",
    "    \n",
    "    display_colleges(recommended_colleges)\n"
   ]
  },
  {
   "cell_type": "code",
   "execution_count": null,
   "id": "c06ac410-bfb5-4215-9b91-3ecd3e5ba309",
   "metadata": {},
   "outputs": [],
   "source": [
    "def display_colleges(recommended_colleges):\n",
    "    if recommended_colleges:\n",
    "        display_text = \"Recommended Colleges:\\n\"\n",
    "        for college in recommended_colleges:\n",
    "            college_info = df[df['COLLEGENAME'] == college]\n",
    "            display_text += f\"{college}\\nLocation: {college_info['DISTRICT'].values[0]}\\nRanking: {college_info['RANKING'].values[0]}\\n\\n\"\n",
    "        result_text.set(display_text)\n",
    "    else:\n",
    "        result_text.set(\"No colleges found.\")"
   ]
  },
  {
   "cell_type": "code",
   "execution_count": null,
   "id": "ea732204-c9f1-4931-9803-0162d12ae021",
   "metadata": {},
   "outputs": [],
   "source": [
    "def validate_ranking(event):\n",
    "    ranking_input = ranking_var.get()\n",
    "    try:\n",
    "        if '-' in ranking_input:\n",
    "            min_rank, max_rank = map(int, ranking_input.split('-'))\n",
    "            ranking_error_label.config(text=\"Valid range\", fg=\"green\")\n",
    "        else:\n",
    "            raise ValueError\n",
    "    except ValueError:\n",
    "        ranking_error_label.config(text=\"Invalid range format\", fg=\"red\")"
   ]
  },
  {
   "cell_type": "code",
   "execution_count": null,
   "id": "0bce9dd9-1dfe-4054-9809-e231ba829325",
   "metadata": {},
   "outputs": [],
   "source": [
    "def start_progress():\n",
    "    progress_bar.start()"
   ]
  },
  {
   "cell_type": "code",
   "execution_count": null,
   "id": "fc9e1510-c2b9-4230-8104-66f075ef8dcc",
   "metadata": {},
   "outputs": [],
   "source": [
    "def stop_progress():\n",
    "    progress_bar.stop()"
   ]
  },
  {
   "cell_type": "code",
   "execution_count": null,
   "id": "b57a00dc-9183-40a5-b52a-620b77e7a1f5",
   "metadata": {},
   "outputs": [],
   "source": [
    "title_label = tk.Label(root, text=\"College Recommendation System\", font=('Times New Roman ', 36, 'bold'), bg=\"#f2f2f2\", fg=\"#333333\")\n",
    "title_label.pack(pady=10)"
   ]
  },
  {
   "cell_type": "code",
   "execution_count": null,
   "id": "33f7e2c6-7333-43ec-a481-5e1404345a98",
   "metadata": {},
   "outputs": [],
   "source": [
    "frame = tk.Frame(root, bg=\"#ffffff\", bd=10, relief=tk.RIDGE)\n",
    "frame.place(relx=0.5, rely=0.15, relwidth=0.85, relheight=0.55, anchor='n')"
   ]
  },
  {
   "cell_type": "code",
   "execution_count": null,
   "id": "7066d20a-a0c5-468f-8ff7-e28b8e6db32e",
   "metadata": {},
   "outputs": [],
   "source": [
    "ttk.Label(frame, text=\"College Facilities Preference:\").grid(column=0, row=0, padx=10, pady=10, sticky=tk.W)\n",
    "facilities_dropdown = ttk.Combobox(frame, values=facilities_options)\n",
    "facilities_dropdown.grid(column=1, row=0, padx=10, pady=10)"
   ]
  },
  {
   "cell_type": "code",
   "execution_count": null,
   "id": "4c7ac99e-2d7f-421e-9362-0daa31035481",
   "metadata": {},
   "outputs": [],
   "source": [
    "ttk.Label(frame, text=\"College Location Preference:\").grid(column=0, row=1, padx=10, pady=10, sticky=tk.W)\n",
    "location_dropdown = ttk.Combobox(frame, values=location_options)\n",
    "location_dropdown.grid(column=1, row=1, padx=10, pady=10)"
   ]
  },
  {
   "cell_type": "code",
   "execution_count": null,
   "id": "1f018425-469f-43e1-99f8-7ee0952e5ece",
   "metadata": {},
   "outputs": [],
   "source": [
    "ttk.Label(frame, text=\"College Ranking Preference Range (e.g., 50-80):\").grid(column=0, row=2, padx=10, pady=10, sticky=tk.W)\n",
    "ranking_var = tk.StringVar()\n",
    "ranking_entry = ttk.Entry(frame, textvariable=ranking_var)\n",
    "ranking_entry.grid(column=1, row=2, padx=10, pady=10)\n",
    "ranking_entry.bind(\"<KeyRelease>\", validate_ranking)"
   ]
  },
  {
   "cell_type": "code",
   "execution_count": null,
   "id": "0f95e66b-f28f-4948-bb33-23667bd5e3a7",
   "metadata": {},
   "outputs": [],
   "source": [
    "ranking_error_label = ttk.Label(frame, text=\"\", background=\"#ffffff\")\n",
    "ranking_error_label.grid(column=1, row=3, padx=10, pady=5)"
   ]
  },
  {
   "cell_type": "code",
   "execution_count": null,
   "id": "3ccd4659-dca9-4095-bc09-ee1abbf4b32d",
   "metadata": {},
   "outputs": [],
   "source": [
    "ttk.Button(frame, text=\"Get Recommendations\", command=lambda: [start_progress(), recommend_college(), stop_progress()]).grid(column=0, row=4, columnspan=2, pady=20)"
   ]
  },
  {
   "cell_type": "code",
   "execution_count": null,
   "id": "30e1c398-cb62-4214-9c7d-918c8ac6ed10",
   "metadata": {},
   "outputs": [],
   "source": [
    "progress_bar = ttk.Progressbar(root, orient=tk.HORIZONTAL, length=400, mode='indeterminate')\n",
    "progress_bar.place(relx=0.5, rely=0.72, anchor='center')"
   ]
  },
  {
   "cell_type": "code",
   "execution_count": null,
   "id": "0f09b055-5409-46b0-9139-773cee285728",
   "metadata": {},
   "outputs": [],
   "source": [
    "result_frame = tk.Frame(root, bg=\"#ffffff\", bd=10, relief=tk.RIDGE)\n",
    "result_frame.place(relx=0.5, rely=0.75, relwidth=0.85, relheight=0.2, anchor='n')"
   ]
  },
  {
   "cell_type": "code",
   "execution_count": null,
   "id": "a98a1d19-7583-46db-9413-2f187f5a9f8c",
   "metadata": {},
   "outputs": [],
   "source": [
    "canvas = tk.Canvas(result_frame, bg=\"#ffffff\")\n",
    "canvas.pack(side=tk.LEFT, fill=tk.BOTH, expand=True)"
   ]
  },
  {
   "cell_type": "code",
   "execution_count": null,
   "id": "c53230df-96e2-481c-8fb8-40c4748a79f0",
   "metadata": {},
   "outputs": [],
   "source": [
    "scrollbar = ttk.Scrollbar(result_frame, orient=tk.VERTICAL, command=canvas.yview)\n",
    "scrollbar.pack(side=tk.RIGHT, fill=tk.Y)"
   ]
  },
  {
   "cell_type": "code",
   "execution_count": null,
   "id": "2ea9465e-12a5-42d4-8e3d-3221cc4a3c15",
   "metadata": {},
   "outputs": [],
   "source": [
    "content_frame = tk.Frame(canvas, bg=\"#ffffff\")"
   ]
  },
  {
   "cell_type": "code",
   "execution_count": null,
   "id": "3f226376-0e9d-4306-8d65-413ebfb070f4",
   "metadata": {},
   "outputs": [],
   "source": [
    "canvas.create_window((0, 0), window=content_frame, anchor=\"nw\")"
   ]
  },
  {
   "cell_type": "code",
   "execution_count": null,
   "id": "0cae4288-d9cf-4cac-b167-57b28513dac6",
   "metadata": {},
   "outputs": [],
   "source": [
    "def update_scroll_region(event):\n",
    "    canvas.config(scrollregion=canvas.bbox(\"all\"))"
   ]
  },
  {
   "cell_type": "code",
   "execution_count": null,
   "id": "ef13c737-7189-4497-bc9d-b058820b9760",
   "metadata": {},
   "outputs": [],
   "source": [
    "content_frame.bind(\"<Configure>\", update_scroll_region)"
   ]
  },
  {
   "cell_type": "code",
   "execution_count": null,
   "id": "c47a0076-851c-42d1-8acd-e547cd7e962d",
   "metadata": {},
   "outputs": [],
   "source": [
    "result_text = tk.StringVar()"
   ]
  },
  {
   "cell_type": "code",
   "execution_count": null,
   "id": "223b8f8c-ac1b-42ab-8266-ab361c273584",
   "metadata": {},
   "outputs": [],
   "source": [
    "result_label = ttk.Label(content_frame, textvariable=result_text, background=\"#ffffff\", font=('Arial', 12), wraplength=550)\n",
    "result_label.pack(padx=10, pady=10)\n"
   ]
  },
  {
   "cell_type": "code",
   "execution_count": null,
   "id": "5bc94beb-aac9-4487-b968-8940ed4d65f7",
   "metadata": {},
   "outputs": [],
   "source": [
    "root.mainloop()"
   ]
  },
  {
   "cell_type": "code",
   "execution_count": null,
   "id": "a5daff12-5c04-4b29-acdd-de991208ee08",
   "metadata": {},
   "outputs": [],
   "source": []
  }
 ],
 "metadata": {
  "kernelspec": {
   "display_name": "Python 3 (ipykernel)",
   "language": "python",
   "name": "python3"
  },
  "language_info": {
   "codemirror_mode": {
    "name": "ipython",
    "version": 3
   },
   "file_extension": ".py",
   "mimetype": "text/x-python",
   "name": "python",
   "nbconvert_exporter": "python",
   "pygments_lexer": "ipython3",
   "version": "3.11.7"
  }
 },
 "nbformat": 4,
 "nbformat_minor": 5
}
